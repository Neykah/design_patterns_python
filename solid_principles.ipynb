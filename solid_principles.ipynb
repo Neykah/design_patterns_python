{
 "cells": [
  {
   "cell_type": "markdown",
   "metadata": {},
   "source": [
    "# SOLID Principles"
   ]
  },
  {
   "cell_type": "markdown",
   "metadata": {},
   "source": [
    "## Open/Closed Principle"
   ]
  },
  {
   "cell_type": "markdown",
   "metadata": {},
   "source": [
    "### Order class before changes\n",
    "\n",
    "![order class before changes](docs/diagrams/out/__WorkspaceFolder__/various_modules/docs/diagrams/src/order_shipping/OrderShippingBefore.png)"
   ]
  },
  {
   "cell_type": "code",
   "execution_count": 1,
   "metadata": {},
   "outputs": [],
   "source": [
    "from dataclasses import dataclass\n",
    "from datetime import date\n",
    "\n",
    "\n",
    "@dataclass\n",
    "class Item:\n",
    "    name: str\n",
    "    price: int\n",
    "    weight: int\n",
    "\n",
    "\n",
    "class Order:\n",
    "    def __init__(self, items: list[Item], shipping: str):\n",
    "        self.line_items = items\n",
    "        self._shipping_type = shipping\n",
    "        self.shipping_date = date.today()\n",
    "\n",
    "    @property\n",
    "    def total(self) -> int:\n",
    "        return sum(item.price for item in self.line_items)\n",
    "\n",
    "    @property\n",
    "    def total_weight(self) -> int:\n",
    "        return sum(item.weight for item in self.line_items)\n",
    "\n",
    "    @property\n",
    "    def shipping(self) -> str:\n",
    "        return self._shipping_type\n",
    "\n",
    "    @shipping.setter\n",
    "    def shipping(self, ship_type: str) -> None:\n",
    "        self._shipping_type = ship_type\n",
    "\n",
    "    def get_shipping_cost(self) -> int:\n",
    "        if self.shipping == \"ground\":\n",
    "            # Free ground delivery on big orders\n",
    "            if self.total > 100:\n",
    "                return 0\n",
    "            # $1.5 per kilogram, but $10 minimum\n",
    "            return max(10, self.total_weight * 1.5)\n",
    "\n",
    "        if self.shipping == \"air\":\n",
    "            # $3 per kilogram, but $20 minimum\n",
    "            return max(20, self.total_weight * 3)"
   ]
  },
  {
   "cell_type": "code",
   "execution_count": 4,
   "metadata": {},
   "outputs": [
    {
     "name": "stdout",
     "output_type": "stream",
     "text": [
      "All unit tests have passed.\n"
     ]
    }
   ],
   "source": [
    "items = [\n",
    "    Item(\"Sturdy Chair\", 230, 40),\n",
    "    Item(\"Amazing Desk\", 400, 100),\n",
    "    Item(\"Bright Lamp\", 50, 4),\n",
    "]\n",
    "\n",
    "order = Order(items, \"ground\")\n",
    "assert order.get_shipping_cost() == 0\n",
    "assert order.total == 230 + 400 + 50\n",
    "assert order.total_weight == 40 + 100 + 4\n",
    "print(\"All unit tests have passed.\")"
   ]
  },
  {
   "cell_type": "markdown",
   "metadata": {},
   "source": [
    "### Order Class After Changes\n",
    "\n",
    "![order and shipping classes after changes](docs/diagrams/out/__WorkspaceFolder__/various_modules/docs/diagrams/src/order_shipping/OrderShippingAfter.png)"
   ]
  },
  {
   "cell_type": "code",
   "execution_count": 3,
   "metadata": {},
   "outputs": [],
   "source": [
    "from datetime import date\n",
    "from dataclasses import dataclass\n",
    "from abc import ABC, abstractmethod\n",
    "\n",
    "@dataclass\n",
    "class Item:\n",
    "    name: str\n",
    "    price: int\n",
    "    weight: int\n",
    "\n",
    "\n",
    "class Order:\n",
    "    def __init__(self, items: list[Item], shipping: \"Shipping\"):\n",
    "        self.line_items = items\n",
    "        self.shipping = shipping\n",
    "        self.shipping_date = date.today()\n",
    "\n",
    "    @property\n",
    "    def total(self) -> int:\n",
    "        return sum(item.price for item in self.line_items)\n",
    "\n",
    "    @property\n",
    "    def total_weight(self) -> int:\n",
    "        return sum(item.weight for item in self.line_items)\n",
    "\n",
    "    def get_shipping_cost(self) -> float:\n",
    "        return self.shipping.get_cost(self)\n",
    "\n",
    "class Shipping(ABC):\n",
    "    @abstractmethod\n",
    "    def get_cost(order: Order) -> float:\n",
    "        ...\n",
    "\n",
    "    @abstractmethod\n",
    "    def get_date(order: Order) -> date:\n",
    "        ...\n",
    "\n",
    "class Ground(Shipping):\n",
    "    def get_cost(self, order: Order) -> float:\n",
    "        if order.total > 100:\n",
    "            return 0\n",
    "        return max(10, order.total_weight * 1.5)\n",
    "\n",
    "    def get_date(self, order: Order) -> date:\n",
    "        return order.shipping_date\n",
    "\n",
    "\n",
    "class Air(Shipping):\n",
    "    def get_cost(self, order: Order) -> float:\n",
    "        return max(20, order.total_weight * 3)\n",
    "\n",
    "    def get_date(self, order: Order) -> date:\n",
    "        return order.shipping_date"
   ]
  },
  {
   "cell_type": "code",
   "execution_count": 2,
   "metadata": {},
   "outputs": [
    {
     "name": "stdout",
     "output_type": "stream",
     "text": [
      "Shipping cost:  0\n",
      "All unit tests have passed.\n"
     ]
    }
   ],
   "source": [
    "items = [\n",
    "    Item(\"Sturdy Chair\", 230, 40),\n",
    "    Item(\"Amazing Desk\", 400, 100),\n",
    "    Item(\"Bright Lamp\", 50, 4),\n",
    "]\n",
    "\n",
    "order = Order(items, Ground())\n",
    "assert (ship_cost := order.get_shipping_cost()) >= 0\n",
    "print(\"Shipping cost: \", ship_cost)\n",
    "assert order.total == 230 + 400 + 50\n",
    "assert order.total_weight == 40 + 100 + 4\n",
    "print(\"All unit tests have passed.\")"
   ]
  },
  {
   "cell_type": "markdown",
   "metadata": {},
   "source": [
    "## Liskov Substitution Principle"
   ]
  },
  {
   "cell_type": "markdown",
   "metadata": {},
   "source": [
    "### LSP: Parameter Types\n",
    "> Parameter types in a method of a subclass should match or be more abstract than parameter types in the method of the superclass."
   ]
  },
  {
   "cell_type": "code",
   "execution_count": 24,
   "metadata": {},
   "outputs": [],
   "source": [
    "# Base code\n",
    "\n",
    "class Animal:\n",
    "    def __init__(self, legs=4, stamina=100):\n",
    "        self.nb_legs: int = legs\n",
    "        self.stamina: int = stamina\n",
    "\n",
    "    def dance(self):\n",
    "        print(f\"Dances using {self.nb_legs} legs!\")\n",
    "\n",
    "class Cat(Animal):\n",
    "    def __init__(self, sound=\"purr\"):\n",
    "        super().__init__(legs=4, stamina=50)\n",
    "        self.sound: str = sound\n",
    "\n",
    "@dataclass\n",
    "class Food:\n",
    "    energy: int\n",
    "\n",
    "    def feed(self, cat: Cat) -> None:\n",
    "        cat.stamina += self.energy\n",
    "        print(cat.sound)\n"
   ]
  },
  {
   "cell_type": "code",
   "execution_count": 25,
   "metadata": {},
   "outputs": [
    {
     "name": "stdout",
     "output_type": "stream",
     "text": [
      "Before feeding, stamina:  50\n",
      "purr\n",
      "After feeding, stamina:  60\n"
     ]
    }
   ],
   "source": [
    "# Client code example\n",
    "def feed_and_print(cat: Cat, food: Food) -> None:\n",
    "    print(\"Before feeding, stamina: \", cat.stamina)\n",
    "    food.feed(cat)\n",
    "    print(\"After feeding, stamina: \", cat.stamina)\n",
    "\n",
    "cat = Cat()\n",
    "sausage = Food(10)\n",
    "feed_and_print(cat, sausage)"
   ]
  },
  {
   "cell_type": "markdown",
   "metadata": {},
   "source": [
    "**Good extension:** the new method that the subclass overrides is able to deal with more general input than the original one.\n",
    "\n",
    "I will **not** break any client code."
   ]
  },
  {
   "cell_type": "code",
   "execution_count": 26,
   "metadata": {},
   "outputs": [],
   "source": [
    "class DancingFood(Food):\n",
    "    def feed(self, animal: Animal) -> None:\n",
    "        animal.stamina += self.energy\n",
    "        animal.dance()"
   ]
  },
  {
   "cell_type": "code",
   "execution_count": 27,
   "metadata": {},
   "outputs": [
    {
     "name": "stdout",
     "output_type": "stream",
     "text": [
      "Before feeding, stamina:  50\n",
      "Dances using 4 legs!\n",
      "After feeding, stamina:  60\n"
     ]
    }
   ],
   "source": [
    "# Client code\n",
    "cat = Cat()\n",
    "fish = DancingFood(10)\n",
    "feed_and_print(cat, fish)"
   ]
  },
  {
   "cell_type": "markdown",
   "metadata": {},
   "source": [
    "**Bad extension:** the new method **will break** existing client code, since it no longer serves generic cats."
   ]
  },
  {
   "cell_type": "code",
   "execution_count": 28,
   "metadata": {},
   "outputs": [],
   "source": [
    "class BengalCat(Cat):\n",
    "    def __init__(self, fanciness: int = 9001):\n",
    "        self.fanciness_score = fanciness\n",
    "\n",
    "class FancyFood(Food):\n",
    "    def feed(self, fancy_cat: BengalCat) -> None:\n",
    "        super().feed(fancy_cat)\n",
    "        print(f\"This cat has a fanciness of\", fancy_cat.fanciness_score)"
   ]
  },
  {
   "cell_type": "code",
   "execution_count": 29,
   "metadata": {},
   "outputs": [
    {
     "name": "stdout",
     "output_type": "stream",
     "text": [
      "Before feeding, stamina:  50\n",
      "purr\n"
     ]
    },
    {
     "ename": "AttributeError",
     "evalue": "'Cat' object has no attribute 'fanciness_score'",
     "output_type": "error",
     "traceback": [
      "\u001b[0;31m---------------------------------------------------------------------------\u001b[0m",
      "\u001b[0;31mAttributeError\u001b[0m                            Traceback (most recent call last)",
      "\u001b[0;32m/var/folders/m2/dshtqd393ld9xhkdfnn6txm40000gp/T/ipykernel_1336/3524966392.py\u001b[0m in \u001b[0;36m<module>\u001b[0;34m\u001b[0m\n\u001b[1;32m      2\u001b[0m \u001b[0mcat\u001b[0m \u001b[0;34m=\u001b[0m \u001b[0mCat\u001b[0m\u001b[0;34m(\u001b[0m\u001b[0;34m)\u001b[0m\u001b[0;34m\u001b[0m\u001b[0;34m\u001b[0m\u001b[0m\n\u001b[1;32m      3\u001b[0m \u001b[0mfancy_feast\u001b[0m \u001b[0;34m=\u001b[0m \u001b[0mFancyFood\u001b[0m\u001b[0;34m(\u001b[0m\u001b[0;36m10\u001b[0m\u001b[0;34m)\u001b[0m\u001b[0;34m\u001b[0m\u001b[0;34m\u001b[0m\u001b[0m\n\u001b[0;32m----> 4\u001b[0;31m \u001b[0mfeed_and_print\u001b[0m\u001b[0;34m(\u001b[0m\u001b[0mcat\u001b[0m\u001b[0;34m,\u001b[0m \u001b[0mfancy_feast\u001b[0m\u001b[0;34m)\u001b[0m\u001b[0;34m\u001b[0m\u001b[0;34m\u001b[0m\u001b[0m\n\u001b[0m",
      "\u001b[0;32m/var/folders/m2/dshtqd393ld9xhkdfnn6txm40000gp/T/ipykernel_1336/510383368.py\u001b[0m in \u001b[0;36mfeed_and_print\u001b[0;34m(cat, food)\u001b[0m\n\u001b[1;32m      2\u001b[0m \u001b[0;32mdef\u001b[0m \u001b[0mfeed_and_print\u001b[0m\u001b[0;34m(\u001b[0m\u001b[0mcat\u001b[0m\u001b[0;34m:\u001b[0m \u001b[0mCat\u001b[0m\u001b[0;34m,\u001b[0m \u001b[0mfood\u001b[0m\u001b[0;34m:\u001b[0m \u001b[0mFood\u001b[0m\u001b[0;34m)\u001b[0m \u001b[0;34m->\u001b[0m \u001b[0;32mNone\u001b[0m\u001b[0;34m:\u001b[0m\u001b[0;34m\u001b[0m\u001b[0;34m\u001b[0m\u001b[0m\n\u001b[1;32m      3\u001b[0m     \u001b[0mprint\u001b[0m\u001b[0;34m(\u001b[0m\u001b[0;34m\"Before feeding, stamina: \"\u001b[0m\u001b[0;34m,\u001b[0m \u001b[0mcat\u001b[0m\u001b[0;34m.\u001b[0m\u001b[0mstamina\u001b[0m\u001b[0;34m)\u001b[0m\u001b[0;34m\u001b[0m\u001b[0;34m\u001b[0m\u001b[0m\n\u001b[0;32m----> 4\u001b[0;31m     \u001b[0mfood\u001b[0m\u001b[0;34m.\u001b[0m\u001b[0mfeed\u001b[0m\u001b[0;34m(\u001b[0m\u001b[0mcat\u001b[0m\u001b[0;34m)\u001b[0m\u001b[0;34m\u001b[0m\u001b[0;34m\u001b[0m\u001b[0m\n\u001b[0m\u001b[1;32m      5\u001b[0m     \u001b[0mprint\u001b[0m\u001b[0;34m(\u001b[0m\u001b[0;34m\"After feeding, stamina: \"\u001b[0m\u001b[0;34m,\u001b[0m \u001b[0mcat\u001b[0m\u001b[0;34m.\u001b[0m\u001b[0mstamina\u001b[0m\u001b[0;34m)\u001b[0m\u001b[0;34m\u001b[0m\u001b[0;34m\u001b[0m\u001b[0m\n\u001b[1;32m      6\u001b[0m \u001b[0;34m\u001b[0m\u001b[0m\n",
      "\u001b[0;32m/var/folders/m2/dshtqd393ld9xhkdfnn6txm40000gp/T/ipykernel_1336/1946923016.py\u001b[0m in \u001b[0;36mfeed\u001b[0;34m(self, fancy_cat)\u001b[0m\n\u001b[1;32m      6\u001b[0m     \u001b[0;32mdef\u001b[0m \u001b[0mfeed\u001b[0m\u001b[0;34m(\u001b[0m\u001b[0mself\u001b[0m\u001b[0;34m,\u001b[0m \u001b[0mfancy_cat\u001b[0m\u001b[0;34m:\u001b[0m \u001b[0mBengalCat\u001b[0m\u001b[0;34m)\u001b[0m \u001b[0;34m->\u001b[0m \u001b[0;32mNone\u001b[0m\u001b[0;34m:\u001b[0m\u001b[0;34m\u001b[0m\u001b[0;34m\u001b[0m\u001b[0m\n\u001b[1;32m      7\u001b[0m         \u001b[0msuper\u001b[0m\u001b[0;34m(\u001b[0m\u001b[0;34m)\u001b[0m\u001b[0;34m.\u001b[0m\u001b[0mfeed\u001b[0m\u001b[0;34m(\u001b[0m\u001b[0mfancy_cat\u001b[0m\u001b[0;34m)\u001b[0m\u001b[0;34m\u001b[0m\u001b[0;34m\u001b[0m\u001b[0m\n\u001b[0;32m----> 8\u001b[0;31m         \u001b[0mprint\u001b[0m\u001b[0;34m(\u001b[0m\u001b[0;34mf\"This cat has a fanciness of\"\u001b[0m\u001b[0;34m,\u001b[0m \u001b[0mfancy_cat\u001b[0m\u001b[0;34m.\u001b[0m\u001b[0mfanciness_score\u001b[0m\u001b[0;34m)\u001b[0m\u001b[0;34m\u001b[0m\u001b[0;34m\u001b[0m\u001b[0m\n\u001b[0m",
      "\u001b[0;31mAttributeError\u001b[0m: 'Cat' object has no attribute 'fanciness_score'"
     ]
    }
   ],
   "source": [
    "# Client code\n",
    "cat = Cat()\n",
    "fancy_feast = FancyFood(10)\n",
    "feed_and_print(cat, fancy_feast)"
   ]
  },
  {
   "cell_type": "markdown",
   "metadata": {},
   "source": [
    "### LSP: Return Types\n",
    "> The return type in a method of a subclass should match or be a subtype of the return type in the method of the superclass."
   ]
  },
  {
   "cell_type": "code",
   "execution_count": 40,
   "metadata": {},
   "outputs": [],
   "source": [
    "# Base code\n",
    "\n",
    "class Animal:\n",
    "    def __init__(self, price: int, sound: str):\n",
    "        self.price = price\n",
    "        self.sound = sound\n",
    "\n",
    "class Cat(Animal):\n",
    "    def __init__(self):\n",
    "        super().__init__(price=100, sound=\"purr\")\n",
    "\n",
    "    def be_cute(self):\n",
    "        print(\"Passive cuteness always ON. Nothing to do in particular\")\n",
    "\n",
    "@dataclass\n",
    "class CatBuyer:\n",
    "    money: int = 300\n",
    "\n",
    "    def buy_cat(self) -> Cat:\n",
    "        cat = Cat()\n",
    "        self.money -= cat.price\n",
    "        return cat"
   ]
  },
  {
   "cell_type": "code",
   "execution_count": 42,
   "metadata": {},
   "outputs": [
    {
     "name": "stdout",
     "output_type": "stream",
     "text": [
      "Money before buying: 300\n",
      "Money after buying: 200\n",
      "purr\n",
      "Passive cuteness always ON. Nothing to do in particular\n"
     ]
    }
   ],
   "source": [
    "# Client code\n",
    "\n",
    "def buy_and_print(buyer: CatBuyer) -> Cat:\n",
    "    print(\"Money before buying:\", buyer.money)\n",
    "    cat = buyer.buy_cat()\n",
    "    print(\"Money after buying:\", buyer.money)\n",
    "    return cat\n",
    "\n",
    "buyer = CatBuyer(money=300)\n",
    "cat = buy_and_print(buyer)\n",
    "print(cat.sound if cat.sound == \"purr\" else \"PuRrR ?!!!\")\n",
    "cat.be_cute()"
   ]
  },
  {
   "cell_type": "markdown",
   "metadata": {},
   "source": [
    "**Good extension:** the new method that the subclass overrides *returns a more specific output* than its subclass.\n",
    "\n",
    "I will **not** break any client code."
   ]
  },
  {
   "cell_type": "code",
   "execution_count": 43,
   "metadata": {},
   "outputs": [],
   "source": [
    "class BengalCat(Cat):\n",
    "    def __init__(self, fanciness: int = 9001):\n",
    "        super().__init__()\n",
    "        self.fanciness_score = fanciness\n",
    "        self.price = 8000\n",
    "\n",
    "class FancyBuyer(CatBuyer):\n",
    "    def __init__(self):\n",
    "        super().__init__(money=9001)\n",
    "\n",
    "    def buy_cat(self) -> BengalCat:\n",
    "        cat = BengalCat()\n",
    "        self.money -= cat.price\n",
    "        print(\"I'm ruined, but at least I have a fancy cat ┬──┬◡ﾉ(° -°ﾉ)\")\n",
    "        return cat"
   ]
  },
  {
   "cell_type": "code",
   "execution_count": 44,
   "metadata": {},
   "outputs": [
    {
     "name": "stdout",
     "output_type": "stream",
     "text": [
      "Money before buying: 9001\n",
      "I'm ruined, but at least I have a fancy cat ┬──┬◡ﾉ(° -°ﾉ)\n",
      "Money after buying: 1001\n",
      "purr\n",
      "Passive cuteness always ON. Nothing to do in particular\n"
     ]
    }
   ],
   "source": [
    "# Client code\n",
    "buyer = FancyBuyer()\n",
    "cat = buy_and_print(buyer)\n",
    "print(cat.sound if cat.sound == \"purr\" else \"PuRrR ?!!!\")\n",
    "cat.be_cute()"
   ]
  },
  {
   "cell_type": "markdown",
   "metadata": {},
   "source": [
    "**Bad extension:** the new method **will break** existing client code, since it can now deliver any Animal, while the client code expects Cats."
   ]
  },
  {
   "cell_type": "code",
   "execution_count": 46,
   "metadata": {},
   "outputs": [],
   "source": [
    "class BlindBuyer(CatBuyer):\n",
    "    def __init__(self):\n",
    "        super().__init__(money=500)\n",
    "\n",
    "    def buy_cat(self) -> Animal:\n",
    "        cat = Animal(300, \"???\")\n",
    "        self.money -= cat.price\n",
    "        print(\"I don't know what I'm doing. But I have a cat (?!!)\")\n",
    "        return cat\n"
   ]
  },
  {
   "cell_type": "code",
   "execution_count": 48,
   "metadata": {},
   "outputs": [
    {
     "name": "stdout",
     "output_type": "stream",
     "text": [
      "Money before buying: 500\n",
      "I don't know what I'm doing. But I have a cat (?!!)\n",
      "Money after buying: 200\n",
      "PuRrR ?!!!\n"
     ]
    },
    {
     "ename": "AttributeError",
     "evalue": "'Animal' object has no attribute 'be_cute'",
     "output_type": "error",
     "traceback": [
      "\u001b[0;31m---------------------------------------------------------------------------\u001b[0m",
      "\u001b[0;31mAttributeError\u001b[0m                            Traceback (most recent call last)",
      "\u001b[0;32m/var/folders/m2/dshtqd393ld9xhkdfnn6txm40000gp/T/ipykernel_1336/2320414236.py\u001b[0m in \u001b[0;36m<module>\u001b[0;34m\u001b[0m\n\u001b[1;32m      2\u001b[0m \u001b[0mcat\u001b[0m \u001b[0;34m=\u001b[0m \u001b[0mbuy_and_print\u001b[0m\u001b[0;34m(\u001b[0m\u001b[0mbuyer\u001b[0m\u001b[0;34m)\u001b[0m\u001b[0;34m\u001b[0m\u001b[0;34m\u001b[0m\u001b[0m\n\u001b[1;32m      3\u001b[0m \u001b[0mprint\u001b[0m\u001b[0;34m(\u001b[0m\u001b[0mcat\u001b[0m\u001b[0;34m.\u001b[0m\u001b[0msound\u001b[0m \u001b[0;32mif\u001b[0m \u001b[0mcat\u001b[0m\u001b[0;34m.\u001b[0m\u001b[0msound\u001b[0m \u001b[0;34m==\u001b[0m \u001b[0;34m\"purr\"\u001b[0m \u001b[0;32melse\u001b[0m \u001b[0;34m\"PuRrR ?!!!\"\u001b[0m\u001b[0;34m)\u001b[0m\u001b[0;34m\u001b[0m\u001b[0;34m\u001b[0m\u001b[0m\n\u001b[0;32m----> 4\u001b[0;31m \u001b[0mcat\u001b[0m\u001b[0;34m.\u001b[0m\u001b[0mbe_cute\u001b[0m\u001b[0;34m(\u001b[0m\u001b[0;34m)\u001b[0m\u001b[0;34m\u001b[0m\u001b[0;34m\u001b[0m\u001b[0m\n\u001b[0m",
      "\u001b[0;31mAttributeError\u001b[0m: 'Animal' object has no attribute 'be_cute'"
     ]
    }
   ],
   "source": [
    "buyer = BlindBuyer()\n",
    "cat = buy_and_print(buyer)\n",
    "print(cat.sound if cat.sound == \"purr\" else \"PuRrR ?!!!\")\n",
    "cat.be_cute()"
   ]
  },
  {
   "cell_type": "markdown",
   "metadata": {},
   "source": [
    "### LSP: Exception Types\n",
    "> A method in a subclass shouldn’t throw types of exceptions which the base method isn’t expected to throw.\n"
   ]
  },
  {
   "cell_type": "code",
   "execution_count": 73,
   "metadata": {},
   "outputs": [],
   "source": [
    "# Base code\n",
    "class BankruptError(Exception):\n",
    "    ...\n",
    "\n",
    "@dataclass\n",
    "class CatBuyer:\n",
    "    money: int = 300\n",
    "\n",
    "    def buy_cat(self) -> Cat:\n",
    "        cat = Cat()\n",
    "        if self.money < cat.price:\n",
    "            raise BankruptError(\"Sorry, you're broke...\")\n",
    "        self.money -= cat.price\n",
    "        return cat\n",
    "\n",
    "    def beg_for_money(self, amount: int) -> None:\n",
    "        print(\"Your bank despise you.\")\n",
    "        self.money += amount"
   ]
  },
  {
   "cell_type": "code",
   "execution_count": 79,
   "metadata": {},
   "outputs": [
    {
     "name": "stdout",
     "output_type": "stream",
     "text": [
      "Sorry, you're broke... I guess next month, you will eat pasta...\n",
      "Your bank despise you.\n",
      "Passive cuteness always ON. Nothing to do in particular\n"
     ]
    }
   ],
   "source": [
    "# Client code\n",
    "def carefully_buy_cat(buyer: CatBuyer) -> Cat:\n",
    "    try:\n",
    "        cat = buyer.buy_cat()\n",
    "    except BankruptError as e:\n",
    "        print(e, \"I guess next month, you will eat pasta...\")\n",
    "        buyer.beg_for_money(10_000)\n",
    "        cat = buyer.buy_cat()\n",
    "    return cat\n",
    "\n",
    "buyer = CatBuyer(money=1)\n",
    "cat = carefully_buy_cat(buyer)\n",
    "cat.be_cute()"
   ]
  },
  {
   "cell_type": "markdown",
   "metadata": {},
   "source": [
    "**Good extension:** The new class only throws subclasses of the exceptions thrown by the base class."
   ]
  },
  {
   "cell_type": "code",
   "execution_count": 71,
   "metadata": {},
   "outputs": [],
   "source": [
    "# Good extension\n",
    "class FancyBankruptError(BankruptError):\n",
    "    ...\n",
    "\n",
    "\n",
    "class FancyBuyer(CatBuyer):\n",
    "    def __init__(self, money=None):\n",
    "        super().__init__(money=9001)\n",
    "        if money is not None:\n",
    "            self.money = money\n",
    "\n",
    "    def buy_cat(self) -> BengalCat:\n",
    "        cat = BengalCat()\n",
    "        if self.money < cat.price:\n",
    "            raise FancyBankruptError(\n",
    "                \"Sorry, you may be fancy but you're not THAT rich...\"\n",
    "            )\n",
    "        self.money -= cat.price\n",
    "        print(\"I'm ruined, but at least I have a fancy cat ┬──┬◡ﾉ(° -°ﾉ)\")\n",
    "        return cat\n"
   ]
  },
  {
   "cell_type": "code",
   "execution_count": 72,
   "metadata": {},
   "outputs": [
    {
     "name": "stdout",
     "output_type": "stream",
     "text": [
      "Sorry, you may be fancy but you're not THAT rich... I guess next month, you will eat pasta...\n",
      "Your bank despise you.\n",
      "I'm ruined, but at least I have a fancy cat ┬──┬◡ﾉ(° -°ﾉ)\n",
      "Passive cuteness always ON. Nothing to do in particular\n"
     ]
    }
   ],
   "source": [
    "# Client code\n",
    "buyer = FancyBuyer(5000)\n",
    "cat = carefully_buy_cat(buyer)\n",
    "cat.be_cute()"
   ]
  },
  {
   "cell_type": "markdown",
   "metadata": {},
   "source": [
    "**Bad extension:** The new subclass throws a totally different type of exception than the base class."
   ]
  },
  {
   "cell_type": "code",
   "execution_count": 77,
   "metadata": {},
   "outputs": [],
   "source": [
    "class NotACatError(Exception):\n",
    "    ...\n",
    "\n",
    "\n",
    "class BlindBuyer(CatBuyer):\n",
    "    def __init__(self, money=None):\n",
    "        super().__init__(money=500)\n",
    "        if money is not None:\n",
    "            self.money = money\n",
    "\n",
    "    def buy_cat(self) -> Cat:\n",
    "        cat = Animal(300, \"???\")\n",
    "        if self.money < cat.price:\n",
    "            raise BankruptError(\"I can't count my money since I cannot see anything!!!\")\n",
    "        if cat.sound != \"purr\":\n",
    "            raise NotACatError(\"Wait it has WAY TOO MANY TEETH... ABORT!!!\")\n",
    "        print(\"I don't know what I'm doing. But I have a cat (?!!)\")\n",
    "        return cat\n"
   ]
  },
  {
   "cell_type": "code",
   "execution_count": 78,
   "metadata": {},
   "outputs": [
    {
     "ename": "NotACatError",
     "evalue": "Wait it has WAY TOO MANY TEETH... ABORT!!!",
     "output_type": "error",
     "traceback": [
      "\u001b[0;31m---------------------------------------------------------------------------\u001b[0m",
      "\u001b[0;31mNotACatError\u001b[0m                              Traceback (most recent call last)",
      "\u001b[0;32m/var/folders/m2/dshtqd393ld9xhkdfnn6txm40000gp/T/ipykernel_1336/2630749668.py\u001b[0m in \u001b[0;36m<module>\u001b[0;34m\u001b[0m\n\u001b[1;32m      1\u001b[0m \u001b[0;31m# Client code\u001b[0m\u001b[0;34m\u001b[0m\u001b[0;34m\u001b[0m\u001b[0m\n\u001b[1;32m      2\u001b[0m \u001b[0mbuyer\u001b[0m \u001b[0;34m=\u001b[0m \u001b[0mBlindBuyer\u001b[0m\u001b[0;34m(\u001b[0m\u001b[0;36m5000\u001b[0m\u001b[0;34m)\u001b[0m\u001b[0;34m\u001b[0m\u001b[0;34m\u001b[0m\u001b[0m\n\u001b[0;32m----> 3\u001b[0;31m \u001b[0mcat\u001b[0m \u001b[0;34m=\u001b[0m \u001b[0mcarefully_buy_cat\u001b[0m\u001b[0;34m(\u001b[0m\u001b[0mbuyer\u001b[0m\u001b[0;34m)\u001b[0m\u001b[0;34m\u001b[0m\u001b[0;34m\u001b[0m\u001b[0m\n\u001b[0m\u001b[1;32m      4\u001b[0m \u001b[0mcat\u001b[0m\u001b[0;34m.\u001b[0m\u001b[0mbe_cute\u001b[0m\u001b[0;34m(\u001b[0m\u001b[0;34m)\u001b[0m\u001b[0;34m\u001b[0m\u001b[0;34m\u001b[0m\u001b[0m\n",
      "\u001b[0;32m/var/folders/m2/dshtqd393ld9xhkdfnn6txm40000gp/T/ipykernel_1336/3062393321.py\u001b[0m in \u001b[0;36mcarefully_buy_cat\u001b[0;34m(buyer)\u001b[0m\n\u001b[1;32m      2\u001b[0m \u001b[0;32mdef\u001b[0m \u001b[0mcarefully_buy_cat\u001b[0m\u001b[0;34m(\u001b[0m\u001b[0mbuyer\u001b[0m\u001b[0;34m:\u001b[0m \u001b[0mCatBuyer\u001b[0m\u001b[0;34m)\u001b[0m \u001b[0;34m->\u001b[0m \u001b[0mCat\u001b[0m\u001b[0;34m:\u001b[0m\u001b[0;34m\u001b[0m\u001b[0;34m\u001b[0m\u001b[0m\n\u001b[1;32m      3\u001b[0m     \u001b[0;32mtry\u001b[0m\u001b[0;34m:\u001b[0m\u001b[0;34m\u001b[0m\u001b[0;34m\u001b[0m\u001b[0m\n\u001b[0;32m----> 4\u001b[0;31m         \u001b[0mcat\u001b[0m \u001b[0;34m=\u001b[0m \u001b[0mbuyer\u001b[0m\u001b[0;34m.\u001b[0m\u001b[0mbuy_cat\u001b[0m\u001b[0;34m(\u001b[0m\u001b[0;34m)\u001b[0m\u001b[0;34m\u001b[0m\u001b[0;34m\u001b[0m\u001b[0m\n\u001b[0m\u001b[1;32m      5\u001b[0m     \u001b[0;32mexcept\u001b[0m \u001b[0mBankruptError\u001b[0m \u001b[0;32mas\u001b[0m \u001b[0me\u001b[0m\u001b[0;34m:\u001b[0m\u001b[0;34m\u001b[0m\u001b[0;34m\u001b[0m\u001b[0m\n\u001b[1;32m      6\u001b[0m         \u001b[0mprint\u001b[0m\u001b[0;34m(\u001b[0m\u001b[0me\u001b[0m\u001b[0;34m,\u001b[0m \u001b[0;34m\"I guess next month, you will eat pasta...\"\u001b[0m\u001b[0;34m)\u001b[0m\u001b[0;34m\u001b[0m\u001b[0;34m\u001b[0m\u001b[0m\n",
      "\u001b[0;32m/var/folders/m2/dshtqd393ld9xhkdfnn6txm40000gp/T/ipykernel_1336/2713114953.py\u001b[0m in \u001b[0;36mbuy_cat\u001b[0;34m(self)\u001b[0m\n\u001b[1;32m     13\u001b[0m             \u001b[0;32mraise\u001b[0m \u001b[0mBankruptError\u001b[0m\u001b[0;34m(\u001b[0m\u001b[0;34m\"I can't count my money since I cannot see anything!!!\"\u001b[0m\u001b[0;34m)\u001b[0m\u001b[0;34m\u001b[0m\u001b[0;34m\u001b[0m\u001b[0m\n\u001b[1;32m     14\u001b[0m         \u001b[0;32mif\u001b[0m \u001b[0mcat\u001b[0m\u001b[0;34m.\u001b[0m\u001b[0msound\u001b[0m \u001b[0;34m!=\u001b[0m \u001b[0;34m\"purr\"\u001b[0m\u001b[0;34m:\u001b[0m\u001b[0;34m\u001b[0m\u001b[0;34m\u001b[0m\u001b[0m\n\u001b[0;32m---> 15\u001b[0;31m             \u001b[0;32mraise\u001b[0m \u001b[0mNotACatError\u001b[0m\u001b[0;34m(\u001b[0m\u001b[0;34m\"Wait it has WAY TOO MANY TEETH... ABORT!!!\"\u001b[0m\u001b[0;34m)\u001b[0m\u001b[0;34m\u001b[0m\u001b[0;34m\u001b[0m\u001b[0m\n\u001b[0m\u001b[1;32m     16\u001b[0m         \u001b[0mprint\u001b[0m\u001b[0;34m(\u001b[0m\u001b[0;34m\"I don't know what I'm doing. But I have a cat (?!!)\"\u001b[0m\u001b[0;34m)\u001b[0m\u001b[0;34m\u001b[0m\u001b[0;34m\u001b[0m\u001b[0m\n\u001b[1;32m     17\u001b[0m         \u001b[0;32mreturn\u001b[0m \u001b[0mcat\u001b[0m\u001b[0;34m\u001b[0m\u001b[0;34m\u001b[0m\u001b[0m\n",
      "\u001b[0;31mNotACatError\u001b[0m: Wait it has WAY TOO MANY TEETH... ABORT!!!"
     ]
    }
   ],
   "source": [
    "# Client code\n",
    "buyer = BlindBuyer(5000)\n",
    "cat = carefully_buy_cat(buyer)\n",
    "cat.be_cute()"
   ]
  },
  {
   "cell_type": "markdown",
   "metadata": {},
   "source": [
    "### Final Example: Documents\n",
    "\n",
    "#### Before fix\n",
    "\n",
    "The base hierarchy looks like the following:\n",
    "\n",
    "![Before refactoring](docs/diagrams/out/__WorkspaceFolder__/various_modules/docs/diagrams/src/read_only_documents/OriginalReadOnlyDocument.png)"
   ]
  },
  {
   "cell_type": "code",
   "execution_count": 3,
   "metadata": {},
   "outputs": [],
   "source": [
    "class ReadOnlyError(Exception):\n",
    "    ...\n",
    "\n",
    "class Document:\n",
    "    def __init__(self, data: str, filename: str):\n",
    "        self.data = data\n",
    "        self.filename = filename\n",
    "\n",
    "    def open(self) -> None:\n",
    "        print(\"open the following document:\", self.filename)\n",
    "    \n",
    "    def save(self) -> None:\n",
    "        print(\"save\", self.filename)\n",
    "\n",
    "class ReadOnlyDocument(Document):\n",
    "    def save(self) -> None:\n",
    "        raise ReadOnlyError(\"Unable to save read-only file.\")\n",
    "\n",
    "class Project:\n",
    "    def __init__(self, documents: list[Document]):\n",
    "        self.documents = documents\n",
    "\n",
    "    def open_all(self) -> None:\n",
    "        for doc in self.documents:\n",
    "            doc.open()\n",
    "\n",
    "    def save_all(self) -> None:\n",
    "        for doc in self.documents:\n",
    "            if not isinstance(doc, ReadOnlyDocument):\n",
    "                doc.save()"
   ]
  },
  {
   "cell_type": "code",
   "execution_count": 4,
   "metadata": {},
   "outputs": [
    {
     "name": "stdout",
     "output_type": "stream",
     "text": [
      "open the following document: a\n",
      "open the following document: b\n",
      "save a\n"
     ]
    }
   ],
   "source": [
    "writable_doc = Document(\"a\", \"a\")\n",
    "readonly_doc = ReadOnlyDocument(\"b\", \"b\")\n",
    "\n",
    "project = Project([writable_doc, readonly_doc])\n",
    "project.open_all()\n",
    "project.save_all()"
   ]
  },
  {
   "cell_type": "markdown",
   "metadata": {},
   "source": [
    "#### After fix\n",
    "\n",
    "The new organization is like this:\n",
    "\n",
    "![After fixing](docs/diagrams/out/__WorkspaceFolder__/various_modules/docs/diagrams/src/read_only_documents/AfterRefactorReadOnlyDocument.png)"
   ]
  },
  {
   "cell_type": "code",
   "execution_count": 2,
   "metadata": {},
   "outputs": [],
   "source": [
    "class Document:\n",
    "    def __init__(self, data: str, filename: str):\n",
    "        self.data = data\n",
    "        self.filename = filename\n",
    "\n",
    "    def open(self) -> None:\n",
    "        print(\"open document:\", self.filename)\n",
    "\n",
    "class WritableDocument(Document):\n",
    "    def save(self) -> None:\n",
    "        print(\"save document:\", self.filename)\n",
    "\n",
    "class Project:\n",
    "    def __init__(self, read_only_docs: list[Document], writable_docs: list[Document]):\n",
    "        self.read_only_docs = read_only_docs\n",
    "        self.writable_docs = writable_docs\n",
    "\n",
    "    def open_all(self) -> None:\n",
    "        for doc in self.read_only_docs + self.writable_docs:\n",
    "            doc.open()\n",
    "\n",
    "    def save_all(self) -> None:\n",
    "        for doc in self.writable_docs:\n",
    "            doc.save()"
   ]
  },
  {
   "cell_type": "code",
   "execution_count": 3,
   "metadata": {},
   "outputs": [
    {
     "name": "stdout",
     "output_type": "stream",
     "text": [
      "open document: b\n",
      "open document: a\n",
      "save document: a\n"
     ]
    }
   ],
   "source": [
    "writable_doc = WritableDocument(\"a\", \"a\")\n",
    "readonly_doc = Document(\"b\", \"b\")\n",
    "\n",
    "project = Project(read_only_docs=[readonly_doc], writable_docs=[writable_doc])\n",
    "project.open_all()\n",
    "project.save_all()"
   ]
  },
  {
   "cell_type": "code",
   "execution_count": null,
   "metadata": {},
   "outputs": [],
   "source": []
  }
 ],
 "metadata": {
  "interpreter": {
   "hash": "9d5bbeea1036c6023418d69a0fc0153ccb8a0aca5e4bb15a9b4fbff8029af2e5"
  },
  "kernelspec": {
   "display_name": "Python 3.10.0 64-bit ('design-principles-in-python-tDZnawEy-py3.10': poetry)",
   "language": "python",
   "name": "python3"
  },
  "language_info": {
   "codemirror_mode": {
    "name": "ipython",
    "version": 3
   },
   "file_extension": ".py",
   "mimetype": "text/x-python",
   "name": "python",
   "nbconvert_exporter": "python",
   "pygments_lexer": "ipython3",
   "version": "3.10.0"
  },
  "orig_nbformat": 4
 },
 "nbformat": 4,
 "nbformat_minor": 2
}
